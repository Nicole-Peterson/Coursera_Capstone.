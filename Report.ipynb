{
 "cells": [
  {
   "cell_type": "markdown",
   "metadata": {},
   "source": [
    "# Exploring Johannesburg with Foursquare API"
   ]
  },
  {
   "cell_type": "markdown",
   "metadata": {},
   "source": [
    "## Introduction"
   ]
  },
  {
   "cell_type": "markdown",
   "metadata": {},
   "source": [
    "Within the first quarter of 2020, the world was faced with one of it's most pressing issues... Covid-19. Most countries reacted as best they could to contain the inevitable spread of the virus. South Africa was no different. However, the people of her land were asked to abide by some of the strictest restrictions.The Government declaired a National State of Disaster which meant that, at will, the government was legally allowed to restrict the people of their ordinary freedoms. "
   ]
  },
  {
   "cell_type": "markdown",
   "metadata": {},
   "source": [
    "With the exception of emergency and essential services being allowed to operate with rotational skeleton staff and reduced hours, most of the country's people were sent home. For concerns related to the capacity of health services, the sale of alcohol and cigarettes was banned until further notice...[^1] "
   ]
  },
  {
   "cell_type": "markdown",
   "metadata": {},
   "source": [
    "### Background\n"
   ]
  },
  {
   "cell_type": "markdown",
   "metadata": {},
   "source": [
    "After 5 months of this intense lockdown, the restrictions were readdressed with the intention of slowly easing them up by means of a progressive phasing plan.[^2] Many items and activities were still banned. It would take a good few months for the return of some seemingly normal things or activities. \n",
    "\n",
    "While some activities have been permitted for a while now, there were curfews that accompanied them. Over the festive season and up until the middle of February most entertainment establishments had to be closed by 8pm, patrons home by 9pm."
   ]
  },
  {
   "cell_type": "markdown",
   "metadata": {},
   "source": [
    "Introducing today, South Africa is officially operating under an amended alert level 3 protocol.[^3] With this ammendment, entertainment estabishments such as cinema's and restaurants may operate until 10pm and the sale of tobacco products and alcohol is conditionally permitted."
   ]
  },
  {
   "cell_type": "markdown",
   "metadata": {},
   "source": [
    "### Business Problem\n"
   ]
  },
  {
   "cell_type": "markdown",
   "metadata": {},
   "source": [
    "Gauteng is roughly 1.5% of South Africa's landmass, is home to more than a quarter of South Africa's population and is responsible for one third of the country's annual GDP.[^4] The provincial capital of Gauteng is Johannesburg which is also informally known as *eGoli*, the *City of Gold* or more locally referred to as *Jozi*. "
   ]
  },
  {
   "cell_type": "markdown",
   "metadata": {},
   "source": [
    "Johannesburg is the largest and most populous city in South Africa with an estimated populous of 5.6 million people in 2019.[^5]\n",
    "After months of sitting / working from home without their usual entertainment options, it's only natural for people to want to explore when the restrictions lifted. The real question is: **How do 5.6 million people explore their city safely?** "
   ]
  },
  {
   "cell_type": "markdown",
   "metadata": {},
   "source": [
    "[^1]: https://www.businessinsider.com/in-worlds-strictest-lockdown-south-africa-banned-alcohol-sales-again-2020-7?IR=T\n",
    "[^2]: https://www.gov.za/covid-19/about/about-alert-system\n",
    "[^3]: https://www.gov.za/covid-19/about/alert-level-3-during-coronavirus-covid-19-lockdown\n",
    "[^4]: https://en.wikipedia.org/wiki/Gauteng\n",
    "[^5]: https://en.wikipedia.org/wiki/Johannesburg\n"
   ]
  },
  {
   "cell_type": "markdown",
   "metadata": {},
   "source": [
    "### Stakeholders\n"
   ]
  },
  {
   "cell_type": "markdown",
   "metadata": {},
   "source": [
    "The people of Johannesburg stand to benefit the most from this exercise because it could help them assess their risk factor when determining where to go for entertainment. Other possible stakeholders would be app developers that could make use of the cross referencing in order to develop a product."
   ]
  },
  {
   "cell_type": "markdown",
   "metadata": {
    "collapsed": "true"
   },
   "source": [
    "## Data"
   ]
  },
  {
   "cell_type": "markdown",
   "metadata": {},
   "source": [
    "### Data Sourcing"
   ]
  },
  {
   "cell_type": "markdown",
   "metadata": {},
   "source": [
    "### Data Cleaning"
   ]
  },
  {
   "cell_type": "markdown",
   "metadata": {},
   "source": [
    "### Feature Selection"
   ]
  },
  {
   "cell_type": "code",
   "execution_count": null,
   "metadata": {},
   "outputs": [],
   "source": []
  }
 ],
 "metadata": {
  "kernelspec": {
   "display_name": "Python 3",
   "language": "python",
   "name": "python3"
  },
  "language_info": {
   "codemirror_mode": {
    "name": "ipython",
    "version": 3
   },
   "file_extension": ".py",
   "mimetype": "text/x-python",
   "name": "python",
   "nbconvert_exporter": "python",
   "pygments_lexer": "ipython3",
   "version": "3.8.3"
  }
 },
 "nbformat": 4,
 "nbformat_minor": 4
}
